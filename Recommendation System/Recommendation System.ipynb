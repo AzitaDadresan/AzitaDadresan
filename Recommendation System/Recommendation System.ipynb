{
 "cells": [
  {
   "cell_type": "markdown",
   "id": "4fa1930c",
   "metadata": {},
   "source": [
    "Product recommendation system similar to Amazon's search:"
   ]
  },
  {
   "cell_type": "code",
   "execution_count": 1,
   "id": "6a57c26d",
   "metadata": {},
   "outputs": [
    {
     "name": "stdout",
     "output_type": "stream",
     "text": [
      "Recommended products for user query: [1, 0, 1, 0]\n",
      "-  Tablet (Similarity: 0.9999999999999998 )\n",
      "-  Laptop (Similarity: 0.8164965809277259 )\n",
      "-  Jeans (Similarity: 0.4999999999999999 )\n"
     ]
    }
   ],
   "source": [
    "import numpy as np\n",
    "\n",
    "# Sample product features (rows: products, columns: features)\n",
    "product_features = np.array([\n",
    "    [1, 0, 1, 1],  # Product 1: electronics, not clothing, with warranty, with free shipping\n",
    "    [0, 1, 0, 1],  # Product 2: not electronics, clothing, no warranty, with free shipping\n",
    "    [1, 0, 1, 0],  # Product 3: electronics, not clothing, with warranty, no free shipping\n",
    "    [0, 1, 1, 0],  # Product 4: not electronics, clothing, with warranty, no free shipping\n",
    "    [1, 0, 0, 1]   # Product 5: electronics, not clothing, no warranty, with free shipping\n",
    "])\n",
    "\n",
    "# Sample product names\n",
    "product_names = [\"Laptop\", \"T-Shirt\", \"Tablet\", \"Jeans\", \"Headphones\"]\n",
    "\n",
    "# Function to recommend products based on user query\n",
    "def recommend_products(query, num_recommendations=3):\n",
    "    query_features = np.array(query)\n",
    "    similarities = [np.dot(query_features, product) / (np.linalg.norm(query_features) * np.linalg.norm(product)) \n",
    "                    for product in product_features]\n",
    "    sorted_similarities = sorted(list(enumerate(similarities)), key=lambda x: x[1], reverse=True)\n",
    "    recommended_products = [(product_names[i], similarity) for i, similarity in sorted_similarities[:num_recommendations]]\n",
    "    return recommended_products\n",
    "\n",
    "# Sample usage: Recommend products for a user searching for electronics with warranty\n",
    "user_query = [1, 0, 1, 0]  # electronics, not clothing, with warranty, no free shipping\n",
    "recommended_products = recommend_products(user_query)\n",
    "print(\"Recommended products for user query:\", user_query)\n",
    "for product, similarity in recommended_products:\n",
    "    print(\"- \", product, \"(Similarity:\", similarity, \")\")\n"
   ]
  },
  {
   "cell_type": "code",
   "execution_count": null,
   "id": "3165bd63",
   "metadata": {},
   "outputs": [],
   "source": []
  }
 ],
 "metadata": {
  "kernelspec": {
   "display_name": "Python 3",
   "language": "python",
   "name": "python3"
  },
  "language_info": {
   "codemirror_mode": {
    "name": "ipython",
    "version": 3
   },
   "file_extension": ".py",
   "mimetype": "text/x-python",
   "name": "python",
   "nbconvert_exporter": "python",
   "pygments_lexer": "ipython3",
   "version": "3.8.8"
  },
  "toc": {
   "base_numbering": 1,
   "nav_menu": {},
   "number_sections": true,
   "sideBar": true,
   "skip_h1_title": false,
   "title_cell": "Table of Contents",
   "title_sidebar": "Contents",
   "toc_cell": false,
   "toc_position": {},
   "toc_section_display": true,
   "toc_window_display": false
  },
  "varInspector": {
   "cols": {
    "lenName": 16,
    "lenType": 16,
    "lenVar": 40
   },
   "kernels_config": {
    "python": {
     "delete_cmd_postfix": "",
     "delete_cmd_prefix": "del ",
     "library": "var_list.py",
     "varRefreshCmd": "print(var_dic_list())"
    },
    "r": {
     "delete_cmd_postfix": ") ",
     "delete_cmd_prefix": "rm(",
     "library": "var_list.r",
     "varRefreshCmd": "cat(var_dic_list()) "
    }
   },
   "types_to_exclude": [
    "module",
    "function",
    "builtin_function_or_method",
    "instance",
    "_Feature"
   ],
   "window_display": false
  }
 },
 "nbformat": 4,
 "nbformat_minor": 5
}
